{
  "nbformat": 4,
  "nbformat_minor": 0,
  "metadata": {
    "colab": {
      "name": "pneumonia_detector_app.ipynb",
      "provenance": [],
      "toc_visible": true
    },
    "kernelspec": {
      "name": "python3",
      "display_name": "Python 3"
    },
    "widgets": {
      "application/vnd.jupyter.widget-state+json": {
        "16716e5989b64e6f8fc8682831a1587c": {
          "model_module": "@jupyter-widgets/controls",
          "model_name": "VBoxModel",
          "state": {
            "_view_name": "VBoxView",
            "_dom_classes": [],
            "_model_name": "VBoxModel",
            "_view_module": "@jupyter-widgets/controls",
            "_model_module_version": "1.5.0",
            "_view_count": null,
            "_view_module_version": "1.5.0",
            "box_style": "",
            "layout": "IPY_MODEL_ce8cccda202f49f4a817f0d8559841ec",
            "_model_module": "@jupyter-widgets/controls",
            "children": [
              "IPY_MODEL_c7cde83c9d49462e871404f0e4ffeda3",
              "IPY_MODEL_3e23ee50ad8a429fba1d9b6099de6bdc",
              "IPY_MODEL_42ce35f29e374e19949520eec4688504",
              "IPY_MODEL_71b4ed2dcd0f46ed843616892b4816f8"
            ]
          }
        },
        "ce8cccda202f49f4a817f0d8559841ec": {
          "model_module": "@jupyter-widgets/base",
          "model_name": "LayoutModel",
          "state": {
            "_view_name": "LayoutView",
            "grid_template_rows": null,
            "right": null,
            "justify_content": null,
            "_view_module": "@jupyter-widgets/base",
            "overflow": null,
            "_model_module_version": "1.2.0",
            "_view_count": null,
            "flex_flow": null,
            "width": null,
            "min_width": null,
            "border": null,
            "align_items": null,
            "bottom": null,
            "_model_module": "@jupyter-widgets/base",
            "top": null,
            "grid_column": null,
            "overflow_y": null,
            "overflow_x": null,
            "grid_auto_flow": null,
            "grid_area": null,
            "grid_template_columns": null,
            "flex": null,
            "_model_name": "LayoutModel",
            "justify_items": null,
            "grid_row": null,
            "max_height": null,
            "align_content": null,
            "visibility": null,
            "align_self": null,
            "height": null,
            "min_height": null,
            "padding": null,
            "grid_auto_rows": null,
            "grid_gap": null,
            "max_width": null,
            "order": null,
            "_view_module_version": "1.2.0",
            "grid_template_areas": null,
            "object_position": null,
            "object_fit": null,
            "grid_auto_columns": null,
            "margin": null,
            "display": null,
            "left": null
          }
        },
        "c7cde83c9d49462e871404f0e4ffeda3": {
          "model_module": "@jupyter-widgets/controls",
          "model_name": "LabelModel",
          "state": {
            "_view_name": "LabelView",
            "style": "IPY_MODEL_c35787843b554aa7b4abbd20e893a750",
            "_dom_classes": [],
            "description": "",
            "_model_name": "LabelModel",
            "placeholder": "​",
            "_view_module": "@jupyter-widgets/controls",
            "_model_module_version": "1.5.0",
            "value": "Upload xray",
            "_view_count": null,
            "_view_module_version": "1.5.0",
            "description_tooltip": null,
            "_model_module": "@jupyter-widgets/controls",
            "layout": "IPY_MODEL_05a2cd024557422c8edf249960cde3c7"
          }
        },
        "3e23ee50ad8a429fba1d9b6099de6bdc": {
          "model_module": "@jupyter-widgets/controls",
          "model_name": "FileUploadModel",
          "state": {
            "_view_name": "FileUploadView",
            "_counter": 4,
            "style": "IPY_MODEL_323cc74988af428eb24cfdb7437d7946",
            "_dom_classes": [],
            "description": "Upload",
            "multiple": false,
            "_model_name": "FileUploadModel",
            "data": [
              null
            ],
            "button_style": "",
            "_view_module": "@jupyter-widgets/controls",
            "_model_module_version": "1.5.0",
            "accept": "",
            "_view_count": null,
            "disabled": false,
            "_view_module_version": "1.5.0",
            "error": "",
            "description_tooltip": null,
            "metadata": [
              {
                "name": "final.jpg",
                "type": "image/jpeg",
                "size": 110182,
                "lastModified": 1609734068698
              }
            ],
            "_model_module": "@jupyter-widgets/controls",
            "layout": "IPY_MODEL_6d1e7d144ba94512acc40a572ec66640",
            "icon": "upload"
          }
        },
        "42ce35f29e374e19949520eec4688504": {
          "model_module": "@jupyter-widgets/output",
          "model_name": "OutputModel",
          "state": {
            "_view_name": "OutputView",
            "msg_id": "",
            "_dom_classes": [],
            "_model_name": "OutputModel",
            "outputs": [
              {
                "output_type": "display_data",
                "metadata": {
                  "tags": []
                },
                "image/png": "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\n",
                "text/plain": "<PIL.Image.Image image mode=RGB size=128x128 at 0x7F9BB2744400>"
              }
            ],
            "_view_module": "@jupyter-widgets/output",
            "_model_module_version": "1.0.0",
            "_view_count": null,
            "_view_module_version": "1.0.0",
            "layout": "IPY_MODEL_ed22ac727c3743f7bcbe85d3f21c96a9",
            "_model_module": "@jupyter-widgets/output"
          }
        },
        "71b4ed2dcd0f46ed843616892b4816f8": {
          "model_module": "@jupyter-widgets/controls",
          "model_name": "LabelModel",
          "state": {
            "_view_name": "LabelView",
            "style": "IPY_MODEL_5213bfd1186c41808b1bfa2a076f0d64",
            "_dom_classes": [],
            "description": "",
            "_model_name": "LabelModel",
            "placeholder": "​",
            "_view_module": "@jupyter-widgets/controls",
            "_model_module_version": "1.5.0",
            "value": "Prediction: PNEUMONIA; Probability: 0.5269",
            "_view_count": null,
            "_view_module_version": "1.5.0",
            "description_tooltip": null,
            "_model_module": "@jupyter-widgets/controls",
            "layout": "IPY_MODEL_8de6428dfbac4cb98bf8414a09f8d2fe"
          }
        },
        "c35787843b554aa7b4abbd20e893a750": {
          "model_module": "@jupyter-widgets/controls",
          "model_name": "DescriptionStyleModel",
          "state": {
            "_view_name": "StyleView",
            "_model_name": "DescriptionStyleModel",
            "description_width": "",
            "_view_module": "@jupyter-widgets/base",
            "_model_module_version": "1.5.0",
            "_view_count": null,
            "_view_module_version": "1.2.0",
            "_model_module": "@jupyter-widgets/controls"
          }
        },
        "05a2cd024557422c8edf249960cde3c7": {
          "model_module": "@jupyter-widgets/base",
          "model_name": "LayoutModel",
          "state": {
            "_view_name": "LayoutView",
            "grid_template_rows": null,
            "right": null,
            "justify_content": null,
            "_view_module": "@jupyter-widgets/base",
            "overflow": null,
            "_model_module_version": "1.2.0",
            "_view_count": null,
            "flex_flow": null,
            "width": null,
            "min_width": null,
            "border": null,
            "align_items": null,
            "bottom": null,
            "_model_module": "@jupyter-widgets/base",
            "top": null,
            "grid_column": null,
            "overflow_y": null,
            "overflow_x": null,
            "grid_auto_flow": null,
            "grid_area": null,
            "grid_template_columns": null,
            "flex": null,
            "_model_name": "LayoutModel",
            "justify_items": null,
            "grid_row": null,
            "max_height": null,
            "align_content": null,
            "visibility": null,
            "align_self": null,
            "height": null,
            "min_height": null,
            "padding": null,
            "grid_auto_rows": null,
            "grid_gap": null,
            "max_width": null,
            "order": null,
            "_view_module_version": "1.2.0",
            "grid_template_areas": null,
            "object_position": null,
            "object_fit": null,
            "grid_auto_columns": null,
            "margin": null,
            "display": null,
            "left": null
          }
        },
        "323cc74988af428eb24cfdb7437d7946": {
          "model_module": "@jupyter-widgets/controls",
          "model_name": "ButtonStyleModel",
          "state": {
            "_view_name": "StyleView",
            "_model_name": "ButtonStyleModel",
            "_view_module": "@jupyter-widgets/base",
            "_model_module_version": "1.5.0",
            "_view_count": null,
            "button_color": null,
            "font_weight": "",
            "_view_module_version": "1.2.0",
            "_model_module": "@jupyter-widgets/controls"
          }
        },
        "6d1e7d144ba94512acc40a572ec66640": {
          "model_module": "@jupyter-widgets/base",
          "model_name": "LayoutModel",
          "state": {
            "_view_name": "LayoutView",
            "grid_template_rows": null,
            "right": null,
            "justify_content": null,
            "_view_module": "@jupyter-widgets/base",
            "overflow": null,
            "_model_module_version": "1.2.0",
            "_view_count": null,
            "flex_flow": null,
            "width": null,
            "min_width": null,
            "border": null,
            "align_items": null,
            "bottom": null,
            "_model_module": "@jupyter-widgets/base",
            "top": null,
            "grid_column": null,
            "overflow_y": null,
            "overflow_x": null,
            "grid_auto_flow": null,
            "grid_area": null,
            "grid_template_columns": null,
            "flex": null,
            "_model_name": "LayoutModel",
            "justify_items": null,
            "grid_row": null,
            "max_height": null,
            "align_content": null,
            "visibility": null,
            "align_self": null,
            "height": null,
            "min_height": null,
            "padding": null,
            "grid_auto_rows": null,
            "grid_gap": null,
            "max_width": null,
            "order": null,
            "_view_module_version": "1.2.0",
            "grid_template_areas": null,
            "object_position": null,
            "object_fit": null,
            "grid_auto_columns": null,
            "margin": null,
            "display": null,
            "left": null
          }
        },
        "5213bfd1186c41808b1bfa2a076f0d64": {
          "model_module": "@jupyter-widgets/controls",
          "model_name": "DescriptionStyleModel",
          "state": {
            "_view_name": "StyleView",
            "_model_name": "DescriptionStyleModel",
            "description_width": "",
            "_view_module": "@jupyter-widgets/base",
            "_model_module_version": "1.5.0",
            "_view_count": null,
            "_view_module_version": "1.2.0",
            "_model_module": "@jupyter-widgets/controls"
          }
        },
        "8de6428dfbac4cb98bf8414a09f8d2fe": {
          "model_module": "@jupyter-widgets/base",
          "model_name": "LayoutModel",
          "state": {
            "_view_name": "LayoutView",
            "grid_template_rows": null,
            "right": null,
            "justify_content": null,
            "_view_module": "@jupyter-widgets/base",
            "overflow": null,
            "_model_module_version": "1.2.0",
            "_view_count": null,
            "flex_flow": null,
            "width": null,
            "min_width": null,
            "border": null,
            "align_items": null,
            "bottom": null,
            "_model_module": "@jupyter-widgets/base",
            "top": null,
            "grid_column": null,
            "overflow_y": null,
            "overflow_x": null,
            "grid_auto_flow": null,
            "grid_area": null,
            "grid_template_columns": null,
            "flex": null,
            "_model_name": "LayoutModel",
            "justify_items": null,
            "grid_row": null,
            "max_height": null,
            "align_content": null,
            "visibility": null,
            "align_self": null,
            "height": null,
            "min_height": null,
            "padding": null,
            "grid_auto_rows": null,
            "grid_gap": null,
            "max_width": null,
            "order": null,
            "_view_module_version": "1.2.0",
            "grid_template_areas": null,
            "object_position": null,
            "object_fit": null,
            "grid_auto_columns": null,
            "margin": null,
            "display": null,
            "left": null
          }
        },
        "ed22ac727c3743f7bcbe85d3f21c96a9": {
          "model_module": "@jupyter-widgets/base",
          "model_name": "LayoutModel",
          "state": {
            "_view_name": "LayoutView",
            "grid_template_rows": null,
            "right": null,
            "justify_content": null,
            "_view_module": "@jupyter-widgets/base",
            "overflow": null,
            "_model_module_version": "1.2.0",
            "_view_count": null,
            "flex_flow": null,
            "width": null,
            "min_width": null,
            "border": null,
            "align_items": null,
            "bottom": null,
            "_model_module": "@jupyter-widgets/base",
            "top": null,
            "grid_column": null,
            "overflow_y": null,
            "overflow_x": null,
            "grid_auto_flow": null,
            "grid_area": null,
            "grid_template_columns": null,
            "flex": null,
            "_model_name": "LayoutModel",
            "justify_items": null,
            "grid_row": null,
            "max_height": null,
            "align_content": null,
            "visibility": null,
            "align_self": null,
            "height": null,
            "min_height": null,
            "padding": null,
            "grid_auto_rows": null,
            "grid_gap": null,
            "max_width": null,
            "order": null,
            "_view_module_version": "1.2.0",
            "grid_template_areas": null,
            "object_position": null,
            "object_fit": null,
            "grid_auto_columns": null,
            "margin": null,
            "display": null,
            "left": null
          }
        }
      }
    }
  },
  "cells": [
    {
      "cell_type": "code",
      "metadata": {
        "colab": {
          "base_uri": "https://localhost:8080/"
        },
        "id": "q387qBefNd7U",
        "outputId": "870b551c-830b-4d16-d9e1-d51205d3ffa3"
      },
      "source": [
        "!pip install fastbook"
      ],
      "execution_count": 1,
      "outputs": [
        {
          "output_type": "stream",
          "text": [
            "Collecting fastbook\n",
            "\u001b[?25l  Downloading https://files.pythonhosted.org/packages/f2/ff/66f16fb9ceb45646e59a38ad5eb0f05fbd6524c20d9c4a2c922cdcd2955b/fastbook-0.0.16-py3-none-any.whl (720kB)\n",
            "\r\u001b[K     |▌                               | 10kB 14.9MB/s eta 0:00:01\r\u001b[K     |█                               | 20kB 21.0MB/s eta 0:00:01\r\u001b[K     |█▍                              | 30kB 25.5MB/s eta 0:00:01\r\u001b[K     |█▉                              | 40kB 25.1MB/s eta 0:00:01\r\u001b[K     |██▎                             | 51kB 13.7MB/s eta 0:00:01\r\u001b[K     |██▊                             | 61kB 15.4MB/s eta 0:00:01\r\u001b[K     |███▏                            | 71kB 12.4MB/s eta 0:00:01\r\u001b[K     |███▋                            | 81kB 13.3MB/s eta 0:00:01\r\u001b[K     |████                            | 92kB 14.3MB/s eta 0:00:01\r\u001b[K     |████▌                           | 102kB 14.5MB/s eta 0:00:01\r\u001b[K     |█████                           | 112kB 14.5MB/s eta 0:00:01\r\u001b[K     |█████▌                          | 122kB 14.5MB/s eta 0:00:01\r\u001b[K     |██████                          | 133kB 14.5MB/s eta 0:00:01\r\u001b[K     |██████▍                         | 143kB 14.5MB/s eta 0:00:01\r\u001b[K     |██████▉                         | 153kB 14.5MB/s eta 0:00:01\r\u001b[K     |███████▎                        | 163kB 14.5MB/s eta 0:00:01\r\u001b[K     |███████▊                        | 174kB 14.5MB/s eta 0:00:01\r\u001b[K     |████████▏                       | 184kB 14.5MB/s eta 0:00:01\r\u001b[K     |████████▋                       | 194kB 14.5MB/s eta 0:00:01\r\u001b[K     |█████████                       | 204kB 14.5MB/s eta 0:00:01\r\u001b[K     |█████████▋                      | 215kB 14.5MB/s eta 0:00:01\r\u001b[K     |██████████                      | 225kB 14.5MB/s eta 0:00:01\r\u001b[K     |██████████▌                     | 235kB 14.5MB/s eta 0:00:01\r\u001b[K     |███████████                     | 245kB 14.5MB/s eta 0:00:01\r\u001b[K     |███████████▍                    | 256kB 14.5MB/s eta 0:00:01\r\u001b[K     |███████████▉                    | 266kB 14.5MB/s eta 0:00:01\r\u001b[K     |████████████▎                   | 276kB 14.5MB/s eta 0:00:01\r\u001b[K     |████████████▊                   | 286kB 14.5MB/s eta 0:00:01\r\u001b[K     |█████████████▏                  | 296kB 14.5MB/s eta 0:00:01\r\u001b[K     |█████████████▋                  | 307kB 14.5MB/s eta 0:00:01\r\u001b[K     |██████████████                  | 317kB 14.5MB/s eta 0:00:01\r\u001b[K     |██████████████▋                 | 327kB 14.5MB/s eta 0:00:01\r\u001b[K     |███████████████                 | 337kB 14.5MB/s eta 0:00:01\r\u001b[K     |███████████████▌                | 348kB 14.5MB/s eta 0:00:01\r\u001b[K     |████████████████                | 358kB 14.5MB/s eta 0:00:01\r\u001b[K     |████████████████▍               | 368kB 14.5MB/s eta 0:00:01\r\u001b[K     |████████████████▉               | 378kB 14.5MB/s eta 0:00:01\r\u001b[K     |█████████████████▎              | 389kB 14.5MB/s eta 0:00:01\r\u001b[K     |█████████████████▊              | 399kB 14.5MB/s eta 0:00:01\r\u001b[K     |██████████████████▏             | 409kB 14.5MB/s eta 0:00:01\r\u001b[K     |██████████████████▋             | 419kB 14.5MB/s eta 0:00:01\r\u001b[K     |███████████████████▏            | 430kB 14.5MB/s eta 0:00:01\r\u001b[K     |███████████████████▋            | 440kB 14.5MB/s eta 0:00:01\r\u001b[K     |████████████████████            | 450kB 14.5MB/s eta 0:00:01\r\u001b[K     |████████████████████▌           | 460kB 14.5MB/s eta 0:00:01\r\u001b[K     |█████████████████████           | 471kB 14.5MB/s eta 0:00:01\r\u001b[K     |█████████████████████▍          | 481kB 14.5MB/s eta 0:00:01\r\u001b[K     |█████████████████████▉          | 491kB 14.5MB/s eta 0:00:01\r\u001b[K     |██████████████████████▎         | 501kB 14.5MB/s eta 0:00:01\r\u001b[K     |██████████████████████▊         | 512kB 14.5MB/s eta 0:00:01\r\u001b[K     |███████████████████████▏        | 522kB 14.5MB/s eta 0:00:01\r\u001b[K     |███████████████████████▋        | 532kB 14.5MB/s eta 0:00:01\r\u001b[K     |████████████████████████▏       | 542kB 14.5MB/s eta 0:00:01\r\u001b[K     |████████████████████████▋       | 552kB 14.5MB/s eta 0:00:01\r\u001b[K     |█████████████████████████       | 563kB 14.5MB/s eta 0:00:01\r\u001b[K     |█████████████████████████▌      | 573kB 14.5MB/s eta 0:00:01\r\u001b[K     |██████████████████████████      | 583kB 14.5MB/s eta 0:00:01\r\u001b[K     |██████████████████████████▍     | 593kB 14.5MB/s eta 0:00:01\r\u001b[K     |██████████████████████████▉     | 604kB 14.5MB/s eta 0:00:01\r\u001b[K     |███████████████████████████▎    | 614kB 14.5MB/s eta 0:00:01\r\u001b[K     |███████████████████████████▊    | 624kB 14.5MB/s eta 0:00:01\r\u001b[K     |████████████████████████████▏   | 634kB 14.5MB/s eta 0:00:01\r\u001b[K     |████████████████████████████▊   | 645kB 14.5MB/s eta 0:00:01\r\u001b[K     |█████████████████████████████▏  | 655kB 14.5MB/s eta 0:00:01\r\u001b[K     |█████████████████████████████▋  | 665kB 14.5MB/s eta 0:00:01\r\u001b[K     |██████████████████████████████  | 675kB 14.5MB/s eta 0:00:01\r\u001b[K     |██████████████████████████████▌ | 686kB 14.5MB/s eta 0:00:01\r\u001b[K     |███████████████████████████████ | 696kB 14.5MB/s eta 0:00:01\r\u001b[K     |███████████████████████████████▍| 706kB 14.5MB/s eta 0:00:01\r\u001b[K     |███████████████████████████████▉| 716kB 14.5MB/s eta 0:00:01\r\u001b[K     |████████████████████████████████| 727kB 14.5MB/s \n",
            "\u001b[?25hRequirement already satisfied: ipywidgets in /usr/local/lib/python3.6/dist-packages (from fastbook) (7.5.1)\n",
            "Requirement already satisfied: pandas in /usr/local/lib/python3.6/dist-packages (from fastbook) (1.1.5)\n",
            "Collecting nbdev>=0.2.38\n",
            "\u001b[?25l  Downloading https://files.pythonhosted.org/packages/4b/c5/a02d58ef8c2a75baf3bb873aecff8690d4b9d12c2b23e786dce09ef93f86/nbdev-1.1.5-py3-none-any.whl (47kB)\n",
            "\u001b[K     |████████████████████████████████| 51kB 5.4MB/s \n",
            "\u001b[?25hCollecting sentencepiece\n",
            "\u001b[?25l  Downloading https://files.pythonhosted.org/packages/e5/2d/6d4ca4bef9a67070fa1cac508606328329152b1df10bdf31fb6e4e727894/sentencepiece-0.1.94-cp36-cp36m-manylinux2014_x86_64.whl (1.1MB)\n",
            "\u001b[K     |████████████████████████████████| 1.1MB 51.6MB/s \n",
            "\u001b[?25hCollecting fastai>=2.1\n",
            "\u001b[?25l  Downloading https://files.pythonhosted.org/packages/3a/6f/392cf2a6af43abaaf9f5f52c17a5cfdb06902a3535f03ff0ca1bdfcc9b80/fastai-2.1.10-py3-none-any.whl (190kB)\n",
            "\u001b[K     |████████████████████████████████| 194kB 53.0MB/s \n",
            "\u001b[?25hRequirement already satisfied: packaging in /usr/local/lib/python3.6/dist-packages (from fastbook) (20.8)\n",
            "Requirement already satisfied: pip in /usr/local/lib/python3.6/dist-packages (from fastbook) (19.3.1)\n",
            "Requirement already satisfied: requests in /usr/local/lib/python3.6/dist-packages (from fastbook) (2.23.0)\n",
            "Requirement already satisfied: traitlets>=4.3.1 in /usr/local/lib/python3.6/dist-packages (from ipywidgets->fastbook) (4.3.3)\n",
            "Requirement already satisfied: nbformat>=4.2.0 in /usr/local/lib/python3.6/dist-packages (from ipywidgets->fastbook) (5.0.8)\n",
            "Requirement already satisfied: widgetsnbextension~=3.5.0 in /usr/local/lib/python3.6/dist-packages (from ipywidgets->fastbook) (3.5.1)\n",
            "Requirement already satisfied: ipython>=4.0.0; python_version >= \"3.3\" in /usr/local/lib/python3.6/dist-packages (from ipywidgets->fastbook) (5.5.0)\n",
            "Requirement already satisfied: ipykernel>=4.5.1 in /usr/local/lib/python3.6/dist-packages (from ipywidgets->fastbook) (4.10.1)\n",
            "Requirement already satisfied: numpy>=1.15.4 in /usr/local/lib/python3.6/dist-packages (from pandas->fastbook) (1.19.4)\n",
            "Requirement already satisfied: python-dateutil>=2.7.3 in /usr/local/lib/python3.6/dist-packages (from pandas->fastbook) (2.8.1)\n",
            "Requirement already satisfied: pytz>=2017.2 in /usr/local/lib/python3.6/dist-packages (from pandas->fastbook) (2018.9)\n",
            "Requirement already satisfied: jupyter-client in /usr/local/lib/python3.6/dist-packages (from nbdev>=0.2.38->fastbook) (5.3.5)\n",
            "Requirement already satisfied: nbconvert<6 in /usr/local/lib/python3.6/dist-packages (from nbdev>=0.2.38->fastbook) (5.6.1)\n",
            "Requirement already satisfied: pyyaml in /usr/local/lib/python3.6/dist-packages (from nbdev>=0.2.38->fastbook) (3.13)\n",
            "Collecting fastcore>=1.3.1\n",
            "\u001b[?25l  Downloading https://files.pythonhosted.org/packages/66/6e/0da19d76b90a8958081335e415c22ed652d879fec0a42e3a44d1fe15231b/fastcore-1.3.16-py3-none-any.whl (53kB)\n",
            "\u001b[K     |████████████████████████████████| 61kB 6.6MB/s \n",
            "\u001b[?25hRequirement already satisfied: scipy in /usr/local/lib/python3.6/dist-packages (from fastai>=2.1->fastbook) (1.4.1)\n",
            "Requirement already satisfied: matplotlib in /usr/local/lib/python3.6/dist-packages (from fastai>=2.1->fastbook) (3.2.2)\n",
            "Requirement already satisfied: torchvision>=0.8 in /usr/local/lib/python3.6/dist-packages (from fastai>=2.1->fastbook) (0.8.1+cu101)\n",
            "Requirement already satisfied: spacy in /usr/local/lib/python3.6/dist-packages (from fastai>=2.1->fastbook) (2.2.4)\n",
            "Requirement already satisfied: scikit-learn in /usr/local/lib/python3.6/dist-packages (from fastai>=2.1->fastbook) (0.22.2.post1)\n",
            "Requirement already satisfied: fastprogress>=0.2.4 in /usr/local/lib/python3.6/dist-packages (from fastai>=2.1->fastbook) (1.0.0)\n",
            "Requirement already satisfied: torch>=1.7.0 in /usr/local/lib/python3.6/dist-packages (from fastai>=2.1->fastbook) (1.7.0+cu101)\n",
            "Requirement already satisfied: pillow>6.0.0 in /usr/local/lib/python3.6/dist-packages (from fastai>=2.1->fastbook) (7.0.0)\n",
            "Requirement already satisfied: pyparsing>=2.0.2 in /usr/local/lib/python3.6/dist-packages (from packaging->fastbook) (2.4.7)\n",
            "Requirement already satisfied: certifi>=2017.4.17 in /usr/local/lib/python3.6/dist-packages (from requests->fastbook) (2020.12.5)\n",
            "Requirement already satisfied: chardet<4,>=3.0.2 in /usr/local/lib/python3.6/dist-packages (from requests->fastbook) (3.0.4)\n",
            "Requirement already satisfied: idna<3,>=2.5 in /usr/local/lib/python3.6/dist-packages (from requests->fastbook) (2.10)\n",
            "Requirement already satisfied: urllib3!=1.25.0,!=1.25.1,<1.26,>=1.21.1 in /usr/local/lib/python3.6/dist-packages (from requests->fastbook) (1.24.3)\n",
            "Requirement already satisfied: decorator in /usr/local/lib/python3.6/dist-packages (from traitlets>=4.3.1->ipywidgets->fastbook) (4.4.2)\n",
            "Requirement already satisfied: six in /usr/local/lib/python3.6/dist-packages (from traitlets>=4.3.1->ipywidgets->fastbook) (1.15.0)\n",
            "Requirement already satisfied: ipython-genutils in /usr/local/lib/python3.6/dist-packages (from traitlets>=4.3.1->ipywidgets->fastbook) (0.2.0)\n",
            "Requirement already satisfied: jsonschema!=2.5.0,>=2.4 in /usr/local/lib/python3.6/dist-packages (from nbformat>=4.2.0->ipywidgets->fastbook) (2.6.0)\n",
            "Requirement already satisfied: jupyter-core in /usr/local/lib/python3.6/dist-packages (from nbformat>=4.2.0->ipywidgets->fastbook) (4.7.0)\n",
            "Requirement already satisfied: notebook>=4.4.1 in /usr/local/lib/python3.6/dist-packages (from widgetsnbextension~=3.5.0->ipywidgets->fastbook) (5.3.1)\n",
            "Requirement already satisfied: pexpect; sys_platform != \"win32\" in /usr/local/lib/python3.6/dist-packages (from ipython>=4.0.0; python_version >= \"3.3\"->ipywidgets->fastbook) (4.8.0)\n",
            "Requirement already satisfied: pickleshare in /usr/local/lib/python3.6/dist-packages (from ipython>=4.0.0; python_version >= \"3.3\"->ipywidgets->fastbook) (0.7.5)\n",
            "Requirement already satisfied: setuptools>=18.5 in /usr/local/lib/python3.6/dist-packages (from ipython>=4.0.0; python_version >= \"3.3\"->ipywidgets->fastbook) (51.0.0)\n",
            "Requirement already satisfied: simplegeneric>0.8 in /usr/local/lib/python3.6/dist-packages (from ipython>=4.0.0; python_version >= \"3.3\"->ipywidgets->fastbook) (0.8.1)\n",
            "Requirement already satisfied: prompt-toolkit<2.0.0,>=1.0.4 in /usr/local/lib/python3.6/dist-packages (from ipython>=4.0.0; python_version >= \"3.3\"->ipywidgets->fastbook) (1.0.18)\n",
            "Requirement already satisfied: pygments in /usr/local/lib/python3.6/dist-packages (from ipython>=4.0.0; python_version >= \"3.3\"->ipywidgets->fastbook) (2.6.1)\n",
            "Requirement already satisfied: tornado>=4.0 in /usr/local/lib/python3.6/dist-packages (from ipykernel>=4.5.1->ipywidgets->fastbook) (5.1.1)\n",
            "Requirement already satisfied: pyzmq>=13 in /usr/local/lib/python3.6/dist-packages (from jupyter-client->nbdev>=0.2.38->fastbook) (20.0.0)\n",
            "Requirement already satisfied: bleach in /usr/local/lib/python3.6/dist-packages (from nbconvert<6->nbdev>=0.2.38->fastbook) (3.2.1)\n",
            "Requirement already satisfied: jinja2>=2.4 in /usr/local/lib/python3.6/dist-packages (from nbconvert<6->nbdev>=0.2.38->fastbook) (2.11.2)\n",
            "Requirement already satisfied: entrypoints>=0.2.2 in /usr/local/lib/python3.6/dist-packages (from nbconvert<6->nbdev>=0.2.38->fastbook) (0.3)\n",
            "Requirement already satisfied: mistune<2,>=0.8.1 in /usr/local/lib/python3.6/dist-packages (from nbconvert<6->nbdev>=0.2.38->fastbook) (0.8.4)\n",
            "Requirement already satisfied: testpath in /usr/local/lib/python3.6/dist-packages (from nbconvert<6->nbdev>=0.2.38->fastbook) (0.4.4)\n",
            "Requirement already satisfied: pandocfilters>=1.4.1 in /usr/local/lib/python3.6/dist-packages (from nbconvert<6->nbdev>=0.2.38->fastbook) (1.4.3)\n",
            "Requirement already satisfied: defusedxml in /usr/local/lib/python3.6/dist-packages (from nbconvert<6->nbdev>=0.2.38->fastbook) (0.6.0)\n",
            "Requirement already satisfied: kiwisolver>=1.0.1 in /usr/local/lib/python3.6/dist-packages (from matplotlib->fastai>=2.1->fastbook) (1.3.1)\n",
            "Requirement already satisfied: cycler>=0.10 in /usr/local/lib/python3.6/dist-packages (from matplotlib->fastai>=2.1->fastbook) (0.10.0)\n",
            "Requirement already satisfied: blis<0.5.0,>=0.4.0 in /usr/local/lib/python3.6/dist-packages (from spacy->fastai>=2.1->fastbook) (0.4.1)\n",
            "Requirement already satisfied: tqdm<5.0.0,>=4.38.0 in /usr/local/lib/python3.6/dist-packages (from spacy->fastai>=2.1->fastbook) (4.41.1)\n",
            "Requirement already satisfied: plac<1.2.0,>=0.9.6 in /usr/local/lib/python3.6/dist-packages (from spacy->fastai>=2.1->fastbook) (1.1.3)\n",
            "Requirement already satisfied: srsly<1.1.0,>=1.0.2 in /usr/local/lib/python3.6/dist-packages (from spacy->fastai>=2.1->fastbook) (1.0.5)\n",
            "Requirement already satisfied: murmurhash<1.1.0,>=0.28.0 in /usr/local/lib/python3.6/dist-packages (from spacy->fastai>=2.1->fastbook) (1.0.5)\n",
            "Requirement already satisfied: wasabi<1.1.0,>=0.4.0 in /usr/local/lib/python3.6/dist-packages (from spacy->fastai>=2.1->fastbook) (0.8.0)\n",
            "Requirement already satisfied: cymem<2.1.0,>=2.0.2 in /usr/local/lib/python3.6/dist-packages (from spacy->fastai>=2.1->fastbook) (2.0.5)\n",
            "Requirement already satisfied: thinc==7.4.0 in /usr/local/lib/python3.6/dist-packages (from spacy->fastai>=2.1->fastbook) (7.4.0)\n",
            "Requirement already satisfied: preshed<3.1.0,>=3.0.2 in /usr/local/lib/python3.6/dist-packages (from spacy->fastai>=2.1->fastbook) (3.0.5)\n",
            "Requirement already satisfied: catalogue<1.1.0,>=0.0.7 in /usr/local/lib/python3.6/dist-packages (from spacy->fastai>=2.1->fastbook) (1.0.0)\n",
            "Requirement already satisfied: joblib>=0.11 in /usr/local/lib/python3.6/dist-packages (from scikit-learn->fastai>=2.1->fastbook) (1.0.0)\n",
            "Requirement already satisfied: future in /usr/local/lib/python3.6/dist-packages (from torch>=1.7.0->fastai>=2.1->fastbook) (0.16.0)\n",
            "Requirement already satisfied: dataclasses in /usr/local/lib/python3.6/dist-packages (from torch>=1.7.0->fastai>=2.1->fastbook) (0.8)\n",
            "Requirement already satisfied: typing-extensions in /usr/local/lib/python3.6/dist-packages (from torch>=1.7.0->fastai>=2.1->fastbook) (3.7.4.3)\n",
            "Requirement already satisfied: Send2Trash in /usr/local/lib/python3.6/dist-packages (from notebook>=4.4.1->widgetsnbextension~=3.5.0->ipywidgets->fastbook) (1.5.0)\n",
            "Requirement already satisfied: terminado>=0.8.1 in /usr/local/lib/python3.6/dist-packages (from notebook>=4.4.1->widgetsnbextension~=3.5.0->ipywidgets->fastbook) (0.9.1)\n",
            "Requirement already satisfied: ptyprocess>=0.5 in /usr/local/lib/python3.6/dist-packages (from pexpect; sys_platform != \"win32\"->ipython>=4.0.0; python_version >= \"3.3\"->ipywidgets->fastbook) (0.6.0)\n",
            "Requirement already satisfied: wcwidth in /usr/local/lib/python3.6/dist-packages (from prompt-toolkit<2.0.0,>=1.0.4->ipython>=4.0.0; python_version >= \"3.3\"->ipywidgets->fastbook) (0.2.5)\n",
            "Requirement already satisfied: webencodings in /usr/local/lib/python3.6/dist-packages (from bleach->nbconvert<6->nbdev>=0.2.38->fastbook) (0.5.1)\n",
            "Requirement already satisfied: MarkupSafe>=0.23 in /usr/local/lib/python3.6/dist-packages (from jinja2>=2.4->nbconvert<6->nbdev>=0.2.38->fastbook) (1.1.1)\n",
            "Requirement already satisfied: importlib-metadata>=0.20; python_version < \"3.8\" in /usr/local/lib/python3.6/dist-packages (from catalogue<1.1.0,>=0.0.7->spacy->fastai>=2.1->fastbook) (3.3.0)\n",
            "Requirement already satisfied: zipp>=0.5 in /usr/local/lib/python3.6/dist-packages (from importlib-metadata>=0.20; python_version < \"3.8\"->catalogue<1.1.0,>=0.0.7->spacy->fastai>=2.1->fastbook) (3.4.0)\n",
            "Installing collected packages: fastcore, nbdev, sentencepiece, fastai, fastbook\n",
            "  Found existing installation: fastai 1.0.61\n",
            "    Uninstalling fastai-1.0.61:\n",
            "      Successfully uninstalled fastai-1.0.61\n",
            "Successfully installed fastai-2.1.10 fastbook-0.0.16 fastcore-1.3.16 nbdev-1.1.5 sentencepiece-0.1.94\n"
          ],
          "name": "stdout"
        }
      ]
    },
    {
      "cell_type": "code",
      "metadata": {
        "id": "DtZJ3Vd4NVn2"
      },
      "source": [
        "from fastai.vision.all import *\r\n",
        "from fastai.vision.widgets import *"
      ],
      "execution_count": 2,
      "outputs": []
    },
    {
      "cell_type": "markdown",
      "metadata": {
        "id": "_KsWsACvN6db"
      },
      "source": [
        "#PNEUMONIA DETECTOR\r\n",
        "\r\n",
        "This is a lightweight prototype which helps to differentiate between normal xrays and xrays with features of pneumonia\r\n",
        "\r\n",
        "All you have to do is to import the chest xray image and the app will return its interpretation.\r\n",
        "\r\n",
        "Please use real radiographic images (if you're using images from google, make sure you have actually confirmed the xrays to be normal or contain features suggestive of pneumonia\r\n",
        "\r\n",
        "please send feedbacks to iteachdata@gmail.com\r\n",
        "\r\n",
        "feel free to follow me on my new twitter account: https://twitter.com/docamoka"
      ]
    },
    {
      "cell_type": "code",
      "metadata": {
        "id": "RWsBNaCXWeMt"
      },
      "source": [
        "path = Path()\r\n",
        "learn_inf = load_learner(path/'aug_pneumonia_detector.pkl', cpu=True)\r\n",
        "btn_upload = widgets.FileUpload()\r\n",
        "out_pl = widgets.Output()\r\n",
        "lbl_pred = widgets.Label()"
      ],
      "execution_count": 4,
      "outputs": []
    },
    {
      "cell_type": "code",
      "metadata": {
        "id": "FAIT5V4UV-8y"
      },
      "source": [
        "def on_data_change(change):\r\n",
        "    lbl_pred.value = ''\r\n",
        "    img = PILImage.create(btn_upload.data[-1])\r\n",
        "    out_pl.clear_output()\r\n",
        "    with out_pl: display(img.to_thumb(128,128))\r\n",
        "    pred,pred_idx,probs = learn_inf.predict(img)\r\n",
        "    lbl_pred.value = f'Prediction: {pred}; Probability: {probs[pred_idx]:.04f}'"
      ],
      "execution_count": 5,
      "outputs": []
    },
    {
      "cell_type": "code",
      "metadata": {
        "id": "9o6fjDCZWOYF"
      },
      "source": [
        "btn_upload.observe(on_data_change, names=['data'])"
      ],
      "execution_count": 6,
      "outputs": []
    },
    {
      "cell_type": "code",
      "metadata": {
        "colab": {
          "base_uri": "https://localhost:8080/",
          "height": 241,
          "referenced_widgets": [
            "16716e5989b64e6f8fc8682831a1587c",
            "ce8cccda202f49f4a817f0d8559841ec",
            "c7cde83c9d49462e871404f0e4ffeda3",
            "3e23ee50ad8a429fba1d9b6099de6bdc",
            "42ce35f29e374e19949520eec4688504",
            "71b4ed2dcd0f46ed843616892b4816f8",
            "c35787843b554aa7b4abbd20e893a750",
            "05a2cd024557422c8edf249960cde3c7",
            "323cc74988af428eb24cfdb7437d7946",
            "6d1e7d144ba94512acc40a572ec66640",
            "5213bfd1186c41808b1bfa2a076f0d64",
            "8de6428dfbac4cb98bf8414a09f8d2fe",
            "ed22ac727c3743f7bcbe85d3f21c96a9"
          ]
        },
        "id": "HSvDXTMUWR3j",
        "outputId": "97a52b94-9034-4a1f-9241-428725c05ce5"
      },
      "source": [
        "display(VBox([widgets.Label('Upload xray'), btn_upload, out_pl, lbl_pred]))"
      ],
      "execution_count": 7,
      "outputs": [
        {
          "output_type": "display_data",
          "data": {
            "application/vnd.jupyter.widget-view+json": {
              "model_id": "16716e5989b64e6f8fc8682831a1587c",
              "version_minor": 0,
              "version_major": 2
            },
            "text/plain": [
              "VBox(children=(Label(value='Upload xray'), FileUpload(value={}, description='Upload'), Output(), Label(value='…"
            ]
          },
          "metadata": {
            "tags": []
          }
        },
        {
          "output_type": "display_data",
          "data": {
            "text/html": [
              ""
            ],
            "text/plain": [
              "<IPython.core.display.HTML object>"
            ]
          },
          "metadata": {
            "tags": []
          }
        },
        {
          "output_type": "display_data",
          "data": {
            "text/html": [
              ""
            ],
            "text/plain": [
              "<IPython.core.display.HTML object>"
            ]
          },
          "metadata": {
            "tags": []
          }
        },
        {
          "output_type": "display_data",
          "data": {
            "text/html": [
              ""
            ],
            "text/plain": [
              "<IPython.core.display.HTML object>"
            ]
          },
          "metadata": {
            "tags": []
          }
        },
        {
          "output_type": "display_data",
          "data": {
            "text/html": [
              ""
            ],
            "text/plain": [
              "<IPython.core.display.HTML object>"
            ]
          },
          "metadata": {
            "tags": []
          }
        }
      ]
    },
    {
      "cell_type": "code",
      "metadata": {
        "id": "QrPSLA96YNw3"
      },
      "source": [
        ""
      ],
      "execution_count": null,
      "outputs": []
    }
  ]
}